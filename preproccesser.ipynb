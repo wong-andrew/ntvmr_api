{
 "cells": [
  {
   "cell_type": "code",
   "execution_count": 1,
   "id": "229b28e8-1cd8-4e7f-bb1b-418353aea2a9",
   "metadata": {},
   "outputs": [],
   "source": [
    "import xml.etree.ElementTree as ET\n",
    "import csv\n",
    "import re\n",
    "import os\n",
    "import pandas as pd\n",
    "import unicodedata\n",
    "from process_xml import process_xml_files_in_folder\n",
    "from to_text import process_readings_txt\n",
    "from call_api import download_nt_xml_files"
   ]
  },
  {
   "cell_type": "code",
   "execution_count": 14,
   "id": "612e9b5e-d503-48b6-9297-fb4a5ba414d8",
   "metadata": {},
   "outputs": [],
   "source": [
    "## define folder name of mss\n",
    "mss=\"03\""
   ]
  },
  {
   "cell_type": "code",
   "execution_count": 15,
   "id": "f736d03e-bdca-4a83-b82c-dcb9dcba03ce",
   "metadata": {},
   "outputs": [],
   "source": [
    "# Example of how to use the function\n",
    "input_folder = f'xml files/{mss}'  \n",
    "xml_output_folder = f'cleaned xml file/{mss}/'  \n",
    "text_output_folder = f'final txt files/{mss}/'  "
   ]
  },
  {
   "cell_type": "code",
   "execution_count": 16,
   "id": "e80c692a-8185-429d-8537-7ef68eb02f79",
   "metadata": {},
   "outputs": [
    {
     "name": "stdout",
     "output_type": "stream",
     "text": [
      "File saved successfully as 'xml files/03/Matthew_03.xml'\n",
      "File saved successfully as 'xml files/03/Mark_03.xml'\n",
      "File saved successfully as 'xml files/03/Luke_03.xml'\n",
      "File saved successfully as 'xml files/03/John_03.xml'\n",
      "File saved successfully as 'xml files/03/Acts_03.xml'\n",
      "File saved successfully as 'xml files/03/Romans_03.xml'\n",
      "File saved successfully as 'xml files/03/1_Corinthians_03.xml'\n",
      "File saved successfully as 'xml files/03/2_Corinthians_03.xml'\n",
      "File saved successfully as 'xml files/03/Galatians_03.xml'\n",
      "File saved successfully as 'xml files/03/Ephesians_03.xml'\n",
      "File saved successfully as 'xml files/03/Philippians_03.xml'\n",
      "File saved successfully as 'xml files/03/Colossians_03.xml'\n",
      "File saved successfully as 'xml files/03/1_Thessalonians_03.xml'\n",
      "File saved successfully as 'xml files/03/2_Thessalonians_03.xml'\n",
      "File saved successfully as 'xml files/03/1_Timothy_03.xml'\n",
      "File saved successfully as 'xml files/03/2_Timothy_03.xml'\n",
      "File saved successfully as 'xml files/03/Titus_03.xml'\n",
      "File saved successfully as 'xml files/03/Philemon_03.xml'\n",
      "File saved successfully as 'xml files/03/Hebrews_03.xml'\n",
      "File saved successfully as 'xml files/03/James_03.xml'\n",
      "File saved successfully as 'xml files/03/1_Peter_03.xml'\n",
      "File saved successfully as 'xml files/03/2_Peter_03.xml'\n",
      "File saved successfully as 'xml files/03/1_John_03.xml'\n",
      "File saved successfully as 'xml files/03/2_John_03.xml'\n",
      "File saved successfully as 'xml files/03/3_John_03.xml'\n",
      "File saved successfully as 'xml files/03/Jude_03.xml'\n",
      "File saved successfully as 'xml files/03/Revelation_03.xml'\n"
     ]
    }
   ],
   "source": [
    "# Call the function to pull XML files\n",
    "download_nt_xml_files(docID=\"20003\", mss=\"03\")"
   ]
  },
  {
   "cell_type": "code",
   "execution_count": 17,
   "id": "16647387-e273-4310-bc85-c5c1a9c4ccbb",
   "metadata": {},
   "outputs": [],
   "source": [
    "# Call the function to process all XML files in the folder\n",
    "process_xml_files_in_folder(input_folder, xml_output_folder)"
   ]
  },
  {
   "cell_type": "code",
   "execution_count": 18,
   "id": "2b44483b-1d55-40e9-a3ce-abea5e8cfac4",
   "metadata": {},
   "outputs": [
    {
     "data": {
      "text/plain": [
       "'cleaned xml file/03/'"
      ]
     },
     "execution_count": 18,
     "metadata": {},
     "output_type": "execute_result"
    }
   ],
   "source": [
    "xml_output_folder"
   ]
  },
  {
   "cell_type": "code",
   "execution_count": 19,
   "id": "fe0d57af-365f-4bd5-a272-a68a418fc1dd",
   "metadata": {},
   "outputs": [],
   "source": [
    "# Call the function to process all XML files in the folder\n",
    "process_readings_txt(xml_output_folder, text_output_folder)"
   ]
  },
  {
   "cell_type": "code",
   "execution_count": null,
   "id": "87127c1c-f0c9-4b83-b20e-dff30af37042",
   "metadata": {},
   "outputs": [],
   "source": []
  }
 ],
 "metadata": {
  "kernelspec": {
   "display_name": "Python 3 (ipykernel)",
   "language": "python",
   "name": "python3"
  },
  "language_info": {
   "codemirror_mode": {
    "name": "ipython",
    "version": 3
   },
   "file_extension": ".py",
   "mimetype": "text/x-python",
   "name": "python",
   "nbconvert_exporter": "python",
   "pygments_lexer": "ipython3",
   "version": "3.12.4"
  }
 },
 "nbformat": 4,
 "nbformat_minor": 5
}
